{
 "cells": [
  {
   "cell_type": "code",
   "execution_count": null,
   "metadata": {},
   "outputs": [],
   "source": [
    "import os\n",
    "import numpy as np\n",
    "from scipy import misc\n",
    "train_list = os.listdir('../stage1_train')\n",
    "train_list = [x for x in train_list if not x.startswith('.')]"
   ]
  },
  {
   "cell_type": "code",
   "execution_count": null,
   "metadata": {},
   "outputs": [],
   "source": [
    "#generate cumulative masks\n",
    "for ii,f in enumerate(train_list):\n",
    "    small_masks = os.listdir('../stage1_train/'+f+'/masks')\n",
    "    big_mask = 'placeholder'\n",
    "    for s in small_masks:\n",
    "        a=misc.imread('../stage1_train/'+f+'/masks/'+s)\n",
    "        if big_mask == 'placeholder':\n",
    "            big_mask = a\n",
    "        else:\n",
    "            big_mask = big_mask + a            \n",
    "    misc.imsave('../stage1_train/'+f+'/'+f+'_mask.png',big_mask)"
   ]
  },
  {
   "cell_type": "code",
   "execution_count": null,
   "metadata": {},
   "outputs": [],
   "source": [
    "c"
   ]
  }
 ],
 "metadata": {
  "kernelspec": {
   "display_name": "Python 2",
   "language": "python",
   "name": "python2"
  },
  "language_info": {
   "codemirror_mode": {
    "name": "ipython",
    "version": 2
   },
   "file_extension": ".py",
   "mimetype": "text/x-python",
   "name": "python",
   "nbconvert_exporter": "python",
   "pygments_lexer": "ipython2",
   "version": "2.7.14"
  }
 },
 "nbformat": 4,
 "nbformat_minor": 2
}
